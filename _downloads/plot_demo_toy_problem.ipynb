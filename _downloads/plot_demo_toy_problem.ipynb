{
  "nbformat_minor": 0, 
  "nbformat": 4, 
  "cells": [
    {
      "execution_count": null, 
      "cell_type": "code", 
      "source": [
        "%matplotlib inline"
      ], 
      "outputs": [], 
      "metadata": {
        "collapsed": false
      }
    }, 
    {
      "source": [
        "\n# Plot a demonstration on a toy problem\n\n\nThis example demonstrates the difficulty to recover sources\nwhich have stronger correlation between the columns of the\ngain matrix G.\n\n"
      ], 
      "cell_type": "markdown", 
      "metadata": {}
    }, 
    {
      "execution_count": null, 
      "cell_type": "code", 
      "source": [
        "# Authors: Yousra Bekhti <yousra.bekhti@gmail.com>\n#          Alexandre Gramfort <alexandre.gramfort@telecom-paristech.fr>\n\n# License: BSD (3-clause)\n\nimport numpy as np\nfrom scipy import linalg\nfrom scipy.linalg.special_matrices import toeplitz\nimport matplotlib.pyplot as plt\n\nfrom mne.inverse_sparse.mxne_optim import norm_l2inf\nfrom bayes_meeg.gamma_hypermodel_optimizer import mm_mixed_norm_bayes"
      ], 
      "outputs": [], 
      "metadata": {
        "collapsed": false
      }
    }, 
    {
      "source": [
        "Construction of a covariance matrix\n\n"
      ], 
      "cell_type": "markdown", 
      "metadata": {}
    }, 
    {
      "execution_count": null, 
      "cell_type": "code", 
      "source": [
        "n_features = 40\nn_samples = 15\nn_times = 10\n\nX_true = np.zeros((n_features, n_times))\n# Active sources at indices 10 and 30\nX_true[10, :] = 2.\nX_true[30, :] = 2.\n\nrng = np.random.RandomState(0)\n# Set the correlation of each simulated source\ncorr = [0.6, 0.95]\ncov = []\nfor c in corr:\n    this_cov = toeplitz(c ** np.arange(0, n_features // len(corr)))\n    cov.append(this_cov)\n\ncov = np.array(linalg.block_diag(*cov))\n\n# Simulation of the design\nG = rng.multivariate_normal(np.zeros(n_features), cov, size=n_samples)\n# Simulation of the data\nM = G.dot(X_true)\nM += 0.3 * np.std(M) * rng.randn(n_samples, n_times)\nn_orient = 1\n\n# The value of lambda for which the solution will be all zero\nlambda_max = norm_l2inf(np.dot(G.T, M), n_orient)\n\nlambda_ref = 0.1 * lambda_max\nK = 2000\nout = mm_mixed_norm_bayes(\n    M, G, lambda_ref, n_orient=n_orient, K=K, return_lpp=True)\n\n(Xs, active_sets), lpp_samples, rel_res_samples, block_norm_samples, lppMAP = \\\n    out\n\nfreq_occ = np.mean(active_sets, axis=0)"
      ], 
      "outputs": [], 
      "metadata": {
        "collapsed": false
      }
    }, 
    {
      "execution_count": null, 
      "cell_type": "code", 
      "source": [
        "plt.close('all')\n\n# Plot the covariance to see the correlation of the neighboring\n# sources around each simulated one (10 and 30).\nplt.matshow(cov)\nplt.title('Covariance')\n\n# Plot the active support of the solution\nplt.figure(figsize=(6.4, 3.3))\nplt.stem(np.mean(active_sets, axis=0))\nplt.xlabel('Features')\nplt.ylabel('Support %')\nplt.tight_layout()\nplt.show()\n\ntmp = np.array(active_sets).astype(float)\nas_cov = np.dot(tmp.T, tmp) / K\n\n# Active set covariance\nplt.matshow(as_cov, origin='lower left')\nplt.clim([0, 0.05])\nplt.gca().xaxis.set_ticks_position('bottom')\nplt.title('Active set covariance')\nplt.colorbar()\nplt.show()"
      ], 
      "outputs": [], 
      "metadata": {
        "collapsed": false
      }
    }
  ], 
  "metadata": {
    "kernelspec": {
      "display_name": "Python 2", 
      "name": "python2", 
      "language": "python"
    }, 
    "language_info": {
      "mimetype": "text/x-python", 
      "nbconvert_exporter": "python", 
      "name": "python", 
      "file_extension": ".py", 
      "version": "2.7.13", 
      "pygments_lexer": "ipython2", 
      "codemirror_mode": {
        "version": 2, 
        "name": "ipython"
      }
    }
  }
}